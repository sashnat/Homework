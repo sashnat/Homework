{
 "cells": [
  {
   "cell_type": "code",
   "execution_count": 120,
   "metadata": {
    "collapsed": true
   },
   "outputs": [],
   "source": [
    "import pandas as pd\n",
    "import numpy as np"
   ]
  },
  {
   "cell_type": "code",
   "execution_count": 121,
   "metadata": {},
   "outputs": [],
   "source": [
    "df1 = pd.read_excel(r'https://stepik.org/media/attachments/lesson/245290/trekking3.xlsx', sheet_name=\"Справочник\")\n",
    "df1[\"Продукт\"] = df1.index"
   ]
  },
  {
   "cell_type": "code",
   "execution_count": 122,
   "metadata": {},
   "outputs": [],
   "source": [
    "df2 = pd.read_excel(r'https://stepik.org/media/attachments/lesson/245290/trekking3.xlsx', sheet_name=\"Раскладка\")"
   ]
  },
  {
   "cell_type": "code",
   "execution_count": 123,
   "metadata": {},
   "outputs": [],
   "source": [
    "df3 = df2.merge(df1)\n",
    "df3=df3.fillna(0)"
   ]
  },
  {
   "cell_type": "code",
   "execution_count": 124,
   "metadata": {},
   "outputs": [],
   "source": [
    "col = [\"ККал на 100\",\"Б на 100\", \"Ж на 100\",\"У на 100\"]\n",
    "func = lambda x: np.asarray(x) * np.asarray(df3[\"Вес в граммах\"]) * 0.01\n",
    "df3[col] = df3[col].apply(func)"
   ]
  },
  {
   "cell_type": "code",
   "execution_count": 125,
   "metadata": {},
   "outputs": [
    {
     "name": "stdout",
     "output_type": "stream",
     "text": [
      "2405 82 154 172\n4963 203 307 302\n5219 178 267 502\n4873 241 204 537\n5278 243 314 367\n4451 190 188 497\n4806 205 265 386\n5738 264 195 720\n1766 66 90 171\n"
     ]
    }
   ],
   "source": [
    "for i in sorted(list(set(df3[\"День\"].values))):\n",
    "    df4 = df3.loc[df3['День'].values == i]\n",
    "    df4 = df4[col].sum(axis=0)\n",
    "    print(' '.join(str(int(i)) for i in df4.values))\n"
   ]
  },
  {
   "cell_type": "code",
   "execution_count": 105,
   "metadata": {},
   "outputs": [],
   "source": [
    "\n",
    "\n"
   ]
  },
  {
   "cell_type": "code",
   "execution_count": null,
   "metadata": {},
   "outputs": [],
   "source": []
  }
 ],
 "metadata": {
  "kernelspec": {
   "display_name": "Python 2",
   "language": "python",
   "name": "python2"
  },
  "language_info": {
   "codemirror_mode": {
    "name": "ipython",
    "version": 2
   },
   "file_extension": ".py",
   "mimetype": "text/x-python",
   "name": "python",
   "nbconvert_exporter": "python",
   "pygments_lexer": "ipython2",
   "version": "2.7.6"
  }
 },
 "nbformat": 4,
 "nbformat_minor": 0
}
